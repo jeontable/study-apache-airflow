{
 "cells": [
  {
   "cell_type": "code",
   "execution_count": 14,
   "metadata": {},
   "outputs": [],
   "source": [
    "import os\n",
    "import json\n",
    "import requests"
   ]
  },
  {
   "cell_type": "code",
   "execution_count": 15,
   "metadata": {},
   "outputs": [],
   "source": [
    "MOVIELENS_HOST = os.environ.get(\"MOVIELENS_HOST\", \"localhost\")\n",
    "MOVIELENS_SCHEMA = os.environ.get(\"MOVIELENS_SCHEMA\", \"http\")\n",
    "MOVIELENS_PORT = os.environ.get(\"MOVIELENS_PORT\", \"5000\")\n",
    "\n",
    "MOVIELENS_USER = os.environ.get(\"MOVIELENS_USER\", \"airflow\")\n",
    "MOVIELENS_PASSWORD = os.environ.get(\"MOVIELENS_PASSWORD\", \"airflow\")"
   ]
  },
  {
   "cell_type": "code",
   "execution_count": 16,
   "metadata": {},
   "outputs": [],
   "source": [
    "def _get_session():\n",
    "    session = requests.Session()\n",
    "    session.auth = (MOVIELENS_USER, MOVIELENS_PASSWORD)  # Replace with your credentials\n",
    "\n",
    "    base_url = f\"{MOVIELENS_SCHEMA}://{MOVIELENS_HOST}:{MOVIELENS_PORT}\"\n",
    "\n",
    "    return session, base_url"
   ]
  },
  {
   "cell_type": "code",
   "execution_count": 17,
   "metadata": {},
   "outputs": [],
   "source": [
    "session, base_url = _get_session()"
   ]
  },
  {
   "cell_type": "code",
   "execution_count": 19,
   "metadata": {},
   "outputs": [
    {
     "data": {
      "text/plain": [
       "'http://localhost:5000'"
      ]
     },
     "execution_count": 19,
     "metadata": {},
     "output_type": "execute_result"
    }
   ],
   "source": [
    "base_url"
   ]
  },
  {
   "cell_type": "code",
   "execution_count": 20,
   "metadata": {},
   "outputs": [
    {
     "data": {
      "text/plain": [
       "{'limit': 100,\n",
       " 'offset': 0,\n",
       " 'result': [{'movieId': 196997,\n",
       "   'rating': 4.0,\n",
       "   'timestamp': 1546301166,\n",
       "   'userId': 27667},\n",
       "  {'movieId': 1213, 'rating': 5.0, 'timestamp': 1546301290, 'userId': 27667},\n",
       "  {'movieId': 55820, 'rating': 4.0, 'timestamp': 1546301706, 'userId': 27667},\n",
       "  {'movieId': 2329, 'rating': 4.0, 'timestamp': 1546301788, 'userId': 27667},\n",
       "  {'movieId': 4878, 'rating': 4.0, 'timestamp': 1546301842, 'userId': 27667},\n",
       "  {'movieId': 589, 'rating': 4.0, 'timestamp': 1546302155, 'userId': 128817},\n",
       "  {'movieId': 119145, 'rating': 2.0, 'timestamp': 1546302225, 'userId': 27667},\n",
       "  {'movieId': 2716, 'rating': 4.0, 'timestamp': 1546302513, 'userId': 27667},\n",
       "  {'movieId': 165, 'rating': 4.0, 'timestamp': 1546302548, 'userId': 27667},\n",
       "  {'movieId': 57669, 'rating': 4.0, 'timestamp': 1546302649, 'userId': 27667},\n",
       "  {'movieId': 5418, 'rating': 4.0, 'timestamp': 1546302687, 'userId': 27667},\n",
       "  {'movieId': 377, 'rating': 4.5, 'timestamp': 1546302763, 'userId': 27667},\n",
       "  {'movieId': 1387, 'rating': 3.5, 'timestamp': 1546303369, 'userId': 27667},\n",
       "  {'movieId': 70286, 'rating': 4.0, 'timestamp': 1546303445, 'userId': 27667},\n",
       "  {'movieId': 56782, 'rating': 3.0, 'timestamp': 1546303870, 'userId': 27667},\n",
       "  {'movieId': 116797, 'rating': 4.0, 'timestamp': 1546303982, 'userId': 27667},\n",
       "  {'movieId': 114662,\n",
       "   'rating': 5.0,\n",
       "   'timestamp': 1546304182,\n",
       "   'userId': 123850},\n",
       "  {'movieId': 4710, 'rating': 3.5, 'timestamp': 1546305412, 'userId': 101489},\n",
       "  {'movieId': 122906,\n",
       "   'rating': 2.0,\n",
       "   'timestamp': 1546306524,\n",
       "   'userId': 119993},\n",
       "  {'movieId': 7346, 'rating': 4.0, 'timestamp': 1546307797, 'userId': 43168},\n",
       "  {'movieId': 54286, 'rating': 4.5, 'timestamp': 1546307807, 'userId': 43168},\n",
       "  {'movieId': 168266, 'rating': 5.0, 'timestamp': 1546308239, 'userId': 27931},\n",
       "  {'movieId': 2858, 'rating': 4.0, 'timestamp': 1546308316, 'userId': 125474},\n",
       "  {'movieId': 163134, 'rating': 5.0, 'timestamp': 1546308975, 'userId': 86604},\n",
       "  {'movieId': 188477, 'rating': 5.0, 'timestamp': 1546308990, 'userId': 86604},\n",
       "  {'movieId': 356, 'rating': 5.0, 'timestamp': 1546309069, 'userId': 86604},\n",
       "  {'movieId': 196997, 'rating': 5.0, 'timestamp': 1546309084, 'userId': 86604},\n",
       "  {'movieId': 2724, 'rating': 4.0, 'timestamp': 1546309194, 'userId': 43168},\n",
       "  {'movieId': 3000, 'rating': 5.0, 'timestamp': 1546309308, 'userId': 86604},\n",
       "  {'movieId': 94677, 'rating': 3.0, 'timestamp': 1546309688, 'userId': 43168},\n",
       "  {'movieId': 296, 'rating': 5.0, 'timestamp': 1546309714, 'userId': 138953},\n",
       "  {'movieId': 1193, 'rating': 4.5, 'timestamp': 1546309729, 'userId': 138953},\n",
       "  {'movieId': 165347, 'rating': 4.0, 'timestamp': 1546309734, 'userId': 43168},\n",
       "  {'movieId': 97921, 'rating': 5.0, 'timestamp': 1546309806, 'userId': 86604},\n",
       "  {'movieId': 1221, 'rating': 4.0, 'timestamp': 1546309848, 'userId': 138953},\n",
       "  {'movieId': 197033, 'rating': 2.5, 'timestamp': 1546310328, 'userId': 7865},\n",
       "  {'movieId': 2291, 'rating': 5.0, 'timestamp': 1546310751, 'userId': 86604},\n",
       "  {'movieId': 2382, 'rating': 2.5, 'timestamp': 1546311490, 'userId': 43168},\n",
       "  {'movieId': 165611,\n",
       "   'rating': 3.5,\n",
       "   'timestamp': 1546311682,\n",
       "   'userId': 126132},\n",
       "  {'movieId': 5952, 'rating': 1.5, 'timestamp': 1546312215, 'userId': 144369},\n",
       "  {'movieId': 4886, 'rating': 2.0, 'timestamp': 1546312229, 'userId': 144369},\n",
       "  {'movieId': 6377, 'rating': 2.0, 'timestamp': 1546312230, 'userId': 144369},\n",
       "  {'movieId': 3793, 'rating': 0.5, 'timestamp': 1546312232, 'userId': 144369},\n",
       "  {'movieId': 48516, 'rating': 4.0, 'timestamp': 1546312247, 'userId': 144369},\n",
       "  {'movieId': 57669, 'rating': 4.0, 'timestamp': 1546312535, 'userId': 30608},\n",
       "  {'movieId': 177763,\n",
       "   'rating': 3.0,\n",
       "   'timestamp': 1546313822,\n",
       "   'userId': 150342},\n",
       "  {'movieId': 480, 'rating': 4.5, 'timestamp': 1546316071, 'userId': 4576},\n",
       "  {'movieId': 457, 'rating': 4.5, 'timestamp': 1546316081, 'userId': 4576},\n",
       "  {'movieId': 2600, 'rating': 3.0, 'timestamp': 1546317518, 'userId': 45934},\n",
       "  {'movieId': 79132, 'rating': 5.0, 'timestamp': 1546318013, 'userId': 1380},\n",
       "  {'movieId': 1198, 'rating': 3.0, 'timestamp': 1546318113, 'userId': 1380},\n",
       "  {'movieId': 99114, 'rating': 4.0, 'timestamp': 1546318168, 'userId': 1380},\n",
       "  {'movieId': 112552, 'rating': 4.0, 'timestamp': 1546318204, 'userId': 1380},\n",
       "  {'movieId': 3753, 'rating': 5.0, 'timestamp': 1546320735, 'userId': 144369},\n",
       "  {'movieId': 195161,\n",
       "   'rating': 1.5,\n",
       "   'timestamp': 1546322469,\n",
       "   'userId': 161037},\n",
       "  {'movieId': 143859, 'rating': 3.0, 'timestamp': 1546323592, 'userId': 34164},\n",
       "  {'movieId': 5618, 'rating': 5.0, 'timestamp': 1546327224, 'userId': 147049},\n",
       "  {'movieId': 51077, 'rating': 4.0, 'timestamp': 1546327268, 'userId': 147049},\n",
       "  {'movieId': 26662, 'rating': 5.0, 'timestamp': 1546327375, 'userId': 147049},\n",
       "  {'movieId': 74698, 'rating': 3.0, 'timestamp': 1546327418, 'userId': 147049},\n",
       "  {'movieId': 106782, 'rating': 4.5, 'timestamp': 1546327540, 'userId': 47976},\n",
       "  {'movieId': 53996, 'rating': 4.0, 'timestamp': 1546327940, 'userId': 47976},\n",
       "  {'movieId': 56782, 'rating': 4.0, 'timestamp': 1546327947, 'userId': 47976},\n",
       "  {'movieId': 81562, 'rating': 3.5, 'timestamp': 1546328391, 'userId': 47976},\n",
       "  {'movieId': 93510, 'rating': 4.0, 'timestamp': 1546328417, 'userId': 47976},\n",
       "  {'movieId': 55955, 'rating': 3.5, 'timestamp': 1546328489, 'userId': 147049},\n",
       "  {'movieId': 45186, 'rating': 4.0, 'timestamp': 1546328837, 'userId': 47976},\n",
       "  {'movieId': 60072, 'rating': 4.0, 'timestamp': 1546328887, 'userId': 47976},\n",
       "  {'movieId': 94777, 'rating': 4.0, 'timestamp': 1546328897, 'userId': 47976},\n",
       "  {'movieId': 115210, 'rating': 4.5, 'timestamp': 1546329532, 'userId': 47976},\n",
       "  {'movieId': 111, 'rating': 4.0, 'timestamp': 1546330803, 'userId': 54256},\n",
       "  {'movieId': 82852, 'rating': 4.5, 'timestamp': 1546330816, 'userId': 54256},\n",
       "  {'movieId': 4306, 'rating': 4.0, 'timestamp': 1546331799, 'userId': 93122},\n",
       "  {'movieId': 115969, 'rating': 5.0, 'timestamp': 1546332315, 'userId': 93122},\n",
       "  {'movieId': 194951, 'rating': 4.0, 'timestamp': 1546334289, 'userId': 40701},\n",
       "  {'movieId': 187613, 'rating': 0.5, 'timestamp': 1546334291, 'userId': 40701},\n",
       "  {'movieId': 30810, 'rating': 2.5, 'timestamp': 1546336970, 'userId': 91436},\n",
       "  {'movieId': 196257, 'rating': 3.0, 'timestamp': 1546337301, 'userId': 37438},\n",
       "  {'movieId': 173197,\n",
       "   'rating': 2.5,\n",
       "   'timestamp': 1546338827,\n",
       "   'userId': 130340},\n",
       "  {'movieId': 8368, 'rating': 4.0, 'timestamp': 1546340439, 'userId': 148379},\n",
       "  {'movieId': 40815, 'rating': 4.5, 'timestamp': 1546340450, 'userId': 148379},\n",
       "  {'movieId': 356, 'rating': 5.0, 'timestamp': 1546340472, 'userId': 148379},\n",
       "  {'movieId': 47, 'rating': 4.5, 'timestamp': 1546340483, 'userId': 148379},\n",
       "  {'movieId': 296, 'rating': 4.5, 'timestamp': 1546340763, 'userId': 148379},\n",
       "  {'movieId': 7254, 'rating': 5.0, 'timestamp': 1546340791, 'userId': 148379},\n",
       "  {'movieId': 122886,\n",
       "   'rating': 3.0,\n",
       "   'timestamp': 1546341012,\n",
       "   'userId': 148379},\n",
       "  {'movieId': 70286, 'rating': 4.0, 'timestamp': 1546341138, 'userId': 148379},\n",
       "  {'movieId': 32587, 'rating': 4.5, 'timestamp': 1546341144, 'userId': 148379},\n",
       "  {'movieId': 135569,\n",
       "   'rating': 2.0,\n",
       "   'timestamp': 1546341158,\n",
       "   'userId': 148379},\n",
       "  {'movieId': 33615, 'rating': 4.5, 'timestamp': 1546341227, 'userId': 148379},\n",
       "  {'movieId': 106782, 'rating': 0.5, 'timestamp': 1546341556, 'userId': 17348},\n",
       "  {'movieId': 110, 'rating': 4.0, 'timestamp': 1546341759, 'userId': 148379},\n",
       "  {'movieId': 8533, 'rating': 1.5, 'timestamp': 1546341859, 'userId': 148379},\n",
       "  {'movieId': 1221, 'rating': 4.0, 'timestamp': 1546341864, 'userId': 148379},\n",
       "  {'movieId': 2671, 'rating': 4.0, 'timestamp': 1546341921, 'userId': 148379},\n",
       "  {'movieId': 112183,\n",
       "   'rating': 4.0,\n",
       "   'timestamp': 1546342159,\n",
       "   'userId': 148379},\n",
       "  {'movieId': 122890, 'rating': 5.0, 'timestamp': 1546342950, 'userId': 14752},\n",
       "  {'movieId': 122906,\n",
       "   'rating': 2.0,\n",
       "   'timestamp': 1546345543,\n",
       "   'userId': 161477},\n",
       "  {'movieId': 3623, 'rating': 4.5, 'timestamp': 1546347374, 'userId': 52724},\n",
       "  {'movieId': 2542, 'rating': 4.0, 'timestamp': 1546347377, 'userId': 52724}],\n",
       " 'total': 100000}"
      ]
     },
     "execution_count": 20,
     "metadata": {},
     "output_type": "execute_result"
    }
   ],
   "source": [
    "session.get(base_url + \"/ratings\").json()"
   ]
  },
  {
   "cell_type": "code",
   "execution_count": null,
   "metadata": {},
   "outputs": [],
   "source": []
  }
 ],
 "metadata": {
  "kernelspec": {
   "display_name": ".venv",
   "language": "python",
   "name": "python3"
  },
  "language_info": {
   "codemirror_mode": {
    "name": "ipython",
    "version": 3
   },
   "file_extension": ".py",
   "mimetype": "text/x-python",
   "name": "python",
   "nbconvert_exporter": "python",
   "pygments_lexer": "ipython3",
   "version": "3.12.3"
  }
 },
 "nbformat": 4,
 "nbformat_minor": 2
}
