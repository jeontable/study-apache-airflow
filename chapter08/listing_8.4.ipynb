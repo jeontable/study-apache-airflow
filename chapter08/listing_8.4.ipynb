{
 "cells": [
  {
   "cell_type": "code",
   "execution_count": 63,
   "metadata": {},
   "outputs": [],
   "source": [
    "import os\n",
    "import json\n",
    "import requests"
   ]
  },
  {
   "cell_type": "code",
   "execution_count": 64,
   "metadata": {},
   "outputs": [],
   "source": [
    "MOVIELENS_HOST = os.environ.get(\"MOVIELENS_HOST\", \"localhost\")\n",
    "MOVIELENS_SCHEMA = os.environ.get(\"MOVIELENS_SCHEMA\", \"http\")\n",
    "MOVIELENS_PORT = os.environ.get(\"MOVIELENS_PORT\", \"5000\")\n",
    "\n",
    "MOVIELENS_USER = os.environ.get(\"MOVIELENS_USER\", \"airflow\")\n",
    "MOVIELENS_PASSWORD = os.environ.get(\"MOVIELENS_PASSWORD\", \"airflow\")"
   ]
  },
  {
   "cell_type": "code",
   "execution_count": 65,
   "metadata": {},
   "outputs": [],
   "source": [
    "def _get_session():\n",
    "    session = requests.Session()\n",
    "    session.auth = (MOVIELENS_USER, MOVIELENS_PASSWORD)  # Replace with your credentials\n",
    "\n",
    "    base_url = f\"{MOVIELENS_SCHEMA}://{MOVIELENS_HOST}:{MOVIELENS_PORT}\"\n",
    "\n",
    "    return session, base_url"
   ]
  },
  {
   "cell_type": "code",
   "execution_count": 66,
   "metadata": {},
   "outputs": [],
   "source": [
    "session, base_url = _get_session()"
   ]
  },
  {
   "cell_type": "code",
   "execution_count": 67,
   "metadata": {},
   "outputs": [
    {
     "data": {
      "text/plain": [
       "<requests.sessions.Session at 0x7eb05034a990>"
      ]
     },
     "execution_count": 67,
     "metadata": {},
     "output_type": "execute_result"
    }
   ],
   "source": [
    "session"
   ]
  },
  {
   "cell_type": "code",
   "execution_count": 68,
   "metadata": {},
   "outputs": [
    {
     "data": {
      "text/plain": [
       "'http://localhost:5000'"
      ]
     },
     "execution_count": 68,
     "metadata": {},
     "output_type": "execute_result"
    }
   ],
   "source": [
    "base_url"
   ]
  },
  {
   "cell_type": "code",
   "execution_count": null,
   "metadata": {},
   "outputs": [],
   "source": [
    "def _get_with_pagination(session, url, params, batch_size=100):\n",
    "    \n",
    "    offset = 0\n",
    "    total = None\n",
    "    while total is None or offset < total:\n",
    "        response = session.get(url,\n",
    "                               params={\n",
    "                                   **params,\n",
    "                                   **{\"offset\": offset, \"limit\": batch_size}\n",
    "                               })\n",
    "        response.raise_for_status()\n",
    "        response_json = response.json()\n",
    "\n",
    "        yield from response_json[\"result\"] # list\n",
    "\n",
    "        offset += batch_size\n",
    "        total = response_json[\"total\"]"
   ]
  },
  {
   "cell_type": "code",
   "execution_count": null,
   "metadata": {},
   "outputs": [],
   "source": [
    "def _get_ratings(start_date, end_date, batch_size=100):\n",
    "    session, base_url = _get_session()\n",
    "\n",
    "    yield from _get_with_pagination(  # generator\n",
    "        session=session,\n",
    "        url=f\"{base_url}/ratings\",\n",
    "        params={\n",
    "            \"start_date\": start_date,\n",
    "            \"end_date\": end_date,\n",
    "        },\n",
    "        batch_size=batch_size,\n",
    "    )"
   ]
  },
  {
   "cell_type": "code",
   "execution_count": 162,
   "metadata": {},
   "outputs": [
    {
     "data": {
      "text/plain": [
       "<generator object _get_ratings at 0x7eb048fb5e40>"
      ]
     },
     "execution_count": 162,
     "metadata": {},
     "output_type": "execute_result"
    }
   ],
   "source": [
    "a1 = _get_ratings(\"2019-01-01\", \"2019-01-02\")\n",
    "a1"
   ]
  },
  {
   "cell_type": "code",
   "execution_count": 165,
   "metadata": {},
   "outputs": [
    {
     "data": {
      "text/plain": [
       "{'movieId': 55820, 'rating': 4.0, 'timestamp': 1546301706, 'userId': 27667}"
      ]
     },
     "execution_count": 165,
     "metadata": {},
     "output_type": "execute_result"
    }
   ],
   "source": [
    "next(a1)"
   ]
  },
  {
   "cell_type": "code",
   "execution_count": 166,
   "metadata": {},
   "outputs": [
    {
     "data": {
      "text/plain": [
       "{'movieId': 2329, 'rating': 4.0, 'timestamp': 1546301788, 'userId': 27667}"
      ]
     },
     "execution_count": 166,
     "metadata": {},
     "output_type": "execute_result"
    }
   ],
   "source": [
    "next(a1)"
   ]
  },
  {
   "cell_type": "code",
   "execution_count": null,
   "metadata": {},
   "outputs": [],
   "source": []
  },
  {
   "cell_type": "code",
   "execution_count": null,
   "metadata": {},
   "outputs": [],
   "source": []
  },
  {
   "cell_type": "code",
   "execution_count": null,
   "metadata": {},
   "outputs": [],
   "source": []
  },
  {
   "cell_type": "code",
   "execution_count": null,
   "metadata": {},
   "outputs": [],
   "source": []
  }
 ],
 "metadata": {
  "kernelspec": {
   "display_name": ".venv",
   "language": "python",
   "name": "python3"
  },
  "language_info": {
   "codemirror_mode": {
    "name": "ipython",
    "version": 3
   },
   "file_extension": ".py",
   "mimetype": "text/x-python",
   "name": "python",
   "nbconvert_exporter": "python",
   "pygments_lexer": "ipython3",
   "version": "3.12.3"
  }
 },
 "nbformat": 4,
 "nbformat_minor": 2
}
