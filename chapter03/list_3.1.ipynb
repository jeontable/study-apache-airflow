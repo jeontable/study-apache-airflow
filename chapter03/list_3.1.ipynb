{
 "cells": [
  {
   "cell_type": "code",
   "execution_count": 14,
   "metadata": {},
   "outputs": [],
   "source": [
    "import os\n",
    "import requests\n",
    "import pandas as pd\n",
    "import subprocess\n",
    "import pathlib"
   ]
  },
  {
   "cell_type": "code",
   "execution_count": 35,
   "metadata": {},
   "outputs": [
    {
     "data": {
      "text/plain": [
       "['pyright-9194-bRZVFKyDDXOO',\n",
       " 'events.json',\n",
       " 'systemd-private-230c20c00c5f41d6a6fa870f26ddd3e6-ModemManager.service-mueEve',\n",
       " 'systemd-private-230c20c00c5f41d6a6fa870f26ddd3e6-systemd-resolved.service-Rg8Xqx',\n",
       " 'code-a48f0085-4aa8-414d-b363-f95816f3df10',\n",
       " 'python-languageserver-cancellation',\n",
       " 'systemd-private-230c20c00c5f41d6a6fa870f26ddd3e6-systemd-logind.service-YGThqr',\n",
       " '.iprt-localipc-DRMIpcServer',\n",
       " '.stats.csv.swp',\n",
       " '.X11-unix',\n",
       " 'stats.csv',\n",
       " '.font-unix',\n",
       " 'snap-private-tmp',\n",
       " '.XIM-unix',\n",
       " 'pyright-5964-Zic33dBaGHy5',\n",
       " 'vagrant-shell',\n",
       " '.ICE-unix',\n",
       " 'systemd-private-230c20c00c5f41d6a6fa870f26ddd3e6-polkit.service-8ZOGD9']"
      ]
     },
     "execution_count": 35,
     "metadata": {},
     "output_type": "execute_result"
    }
   ],
   "source": [
    "subprocess.run(\"curl -o /tmp/events.json -L http://192.168.0.231:5000/events\", shell=True, capture_output=True)\n",
    "os.listdir(\"/tmp\")"
   ]
  },
  {
   "cell_type": "code",
   "execution_count": 36,
   "metadata": {},
   "outputs": [],
   "source": [
    "input_path = \"/tmp/events.json\"\n",
    "output_path = \"/tmp/stats.csv\""
   ]
  },
  {
   "cell_type": "code",
   "execution_count": 37,
   "metadata": {},
   "outputs": [
    {
     "data": {
      "text/html": [
       "<div>\n",
       "<style scoped>\n",
       "    .dataframe tbody tr th:only-of-type {\n",
       "        vertical-align: middle;\n",
       "    }\n",
       "\n",
       "    .dataframe tbody tr th {\n",
       "        vertical-align: top;\n",
       "    }\n",
       "\n",
       "    .dataframe thead th {\n",
       "        text-align: right;\n",
       "    }\n",
       "</style>\n",
       "<table border=\"1\" class=\"dataframe\">\n",
       "  <thead>\n",
       "    <tr style=\"text-align: right;\">\n",
       "      <th></th>\n",
       "      <th>date</th>\n",
       "      <th>user</th>\n",
       "    </tr>\n",
       "  </thead>\n",
       "  <tbody>\n",
       "    <tr>\n",
       "      <th>0</th>\n",
       "      <td>2018-12-06 00:00:00+00:00</td>\n",
       "      <td>17.149.126.122</td>\n",
       "    </tr>\n",
       "    <tr>\n",
       "      <th>1</th>\n",
       "      <td>2018-12-06 00:00:00+00:00</td>\n",
       "      <td>206.254.44.244</td>\n",
       "    </tr>\n",
       "    <tr>\n",
       "      <th>2</th>\n",
       "      <td>2018-12-06 00:00:00+00:00</td>\n",
       "      <td>108.49.147.12</td>\n",
       "    </tr>\n",
       "    <tr>\n",
       "      <th>3</th>\n",
       "      <td>2018-12-06 00:00:00+00:00</td>\n",
       "      <td>172.211.72.11</td>\n",
       "    </tr>\n",
       "    <tr>\n",
       "      <th>4</th>\n",
       "      <td>2018-12-06 00:00:00+00:00</td>\n",
       "      <td>172.211.72.11</td>\n",
       "    </tr>\n",
       "    <tr>\n",
       "      <th>...</th>\n",
       "      <td>...</td>\n",
       "      <td>...</td>\n",
       "    </tr>\n",
       "    <tr>\n",
       "      <th>31977</th>\n",
       "      <td>2019-01-04 00:00:00+00:00</td>\n",
       "      <td>90.191.242.202</td>\n",
       "    </tr>\n",
       "    <tr>\n",
       "      <th>31978</th>\n",
       "      <td>2019-01-04 00:00:00+00:00</td>\n",
       "      <td>104.33.167.13</td>\n",
       "    </tr>\n",
       "    <tr>\n",
       "      <th>31979</th>\n",
       "      <td>2019-01-04 00:00:00+00:00</td>\n",
       "      <td>218.141.141.249</td>\n",
       "    </tr>\n",
       "    <tr>\n",
       "      <th>31980</th>\n",
       "      <td>2019-01-04 00:00:00+00:00</td>\n",
       "      <td>181.77.7.69</td>\n",
       "    </tr>\n",
       "    <tr>\n",
       "      <th>31981</th>\n",
       "      <td>2019-01-04 00:00:00+00:00</td>\n",
       "      <td>90.191.242.202</td>\n",
       "    </tr>\n",
       "  </tbody>\n",
       "</table>\n",
       "<p>31982 rows × 2 columns</p>\n",
       "</div>"
      ],
      "text/plain": [
       "                           date             user\n",
       "0     2018-12-06 00:00:00+00:00   17.149.126.122\n",
       "1     2018-12-06 00:00:00+00:00   206.254.44.244\n",
       "2     2018-12-06 00:00:00+00:00    108.49.147.12\n",
       "3     2018-12-06 00:00:00+00:00    172.211.72.11\n",
       "4     2018-12-06 00:00:00+00:00    172.211.72.11\n",
       "...                         ...              ...\n",
       "31977 2019-01-04 00:00:00+00:00   90.191.242.202\n",
       "31978 2019-01-04 00:00:00+00:00    104.33.167.13\n",
       "31979 2019-01-04 00:00:00+00:00  218.141.141.249\n",
       "31980 2019-01-04 00:00:00+00:00      181.77.7.69\n",
       "31981 2019-01-04 00:00:00+00:00   90.191.242.202\n",
       "\n",
       "[31982 rows x 2 columns]"
      ]
     },
     "execution_count": 37,
     "metadata": {},
     "output_type": "execute_result"
    }
   ],
   "source": [
    "events = pd.read_json(input_path)\n",
    "events"
   ]
  },
  {
   "cell_type": "code",
   "execution_count": 38,
   "metadata": {},
   "outputs": [],
   "source": [
    "stats = events.groupby([\"date\", \"user\"]).size().reset_index(name=\"total\")"
   ]
  },
  {
   "cell_type": "code",
   "execution_count": 39,
   "metadata": {},
   "outputs": [],
   "source": [
    "pathlib.Path(output_path).parent.mkdir(exist_ok=True)"
   ]
  },
  {
   "cell_type": "code",
   "execution_count": 40,
   "metadata": {},
   "outputs": [],
   "source": [
    "stats.to_csv(output_path, index=False)"
   ]
  },
  {
   "cell_type": "code",
   "execution_count": 41,
   "metadata": {},
   "outputs": [
    {
     "data": {
      "text/html": [
       "<div>\n",
       "<style scoped>\n",
       "    .dataframe tbody tr th:only-of-type {\n",
       "        vertical-align: middle;\n",
       "    }\n",
       "\n",
       "    .dataframe tbody tr th {\n",
       "        vertical-align: top;\n",
       "    }\n",
       "\n",
       "    .dataframe thead th {\n",
       "        text-align: right;\n",
       "    }\n",
       "</style>\n",
       "<table border=\"1\" class=\"dataframe\">\n",
       "  <thead>\n",
       "    <tr style=\"text-align: right;\">\n",
       "      <th></th>\n",
       "      <th>date</th>\n",
       "      <th>user</th>\n",
       "      <th>total</th>\n",
       "    </tr>\n",
       "  </thead>\n",
       "  <tbody>\n",
       "    <tr>\n",
       "      <th>0</th>\n",
       "      <td>2018-12-06 00:00:00+00:00</td>\n",
       "      <td>100.45.97.201</td>\n",
       "      <td>27</td>\n",
       "    </tr>\n",
       "    <tr>\n",
       "      <th>1</th>\n",
       "      <td>2018-12-06 00:00:00+00:00</td>\n",
       "      <td>101.22.58.73</td>\n",
       "      <td>22</td>\n",
       "    </tr>\n",
       "    <tr>\n",
       "      <th>2</th>\n",
       "      <td>2018-12-06 00:00:00+00:00</td>\n",
       "      <td>101.50.153.45</td>\n",
       "      <td>22</td>\n",
       "    </tr>\n",
       "    <tr>\n",
       "      <th>3</th>\n",
       "      <td>2018-12-06 00:00:00+00:00</td>\n",
       "      <td>103.108.226.163</td>\n",
       "      <td>31</td>\n",
       "    </tr>\n",
       "    <tr>\n",
       "      <th>4</th>\n",
       "      <td>2018-12-06 00:00:00+00:00</td>\n",
       "      <td>108.49.147.12</td>\n",
       "      <td>24</td>\n",
       "    </tr>\n",
       "    <tr>\n",
       "      <th>...</th>\n",
       "      <td>...</td>\n",
       "      <td>...</td>\n",
       "      <td>...</td>\n",
       "    </tr>\n",
       "    <tr>\n",
       "      <th>2175</th>\n",
       "      <td>2019-01-04 00:00:00+00:00</td>\n",
       "      <td>92.164.173.92</td>\n",
       "      <td>14</td>\n",
       "    </tr>\n",
       "    <tr>\n",
       "      <th>2176</th>\n",
       "      <td>2019-01-04 00:00:00+00:00</td>\n",
       "      <td>94.48.16.104</td>\n",
       "      <td>15</td>\n",
       "    </tr>\n",
       "    <tr>\n",
       "      <th>2177</th>\n",
       "      <td>2019-01-04 00:00:00+00:00</td>\n",
       "      <td>94.73.71.128</td>\n",
       "      <td>18</td>\n",
       "    </tr>\n",
       "    <tr>\n",
       "      <th>2178</th>\n",
       "      <td>2019-01-04 00:00:00+00:00</td>\n",
       "      <td>96.14.240.112</td>\n",
       "      <td>14</td>\n",
       "    </tr>\n",
       "    <tr>\n",
       "      <th>2179</th>\n",
       "      <td>2019-01-04 00:00:00+00:00</td>\n",
       "      <td>99.219.113.60</td>\n",
       "      <td>19</td>\n",
       "    </tr>\n",
       "  </tbody>\n",
       "</table>\n",
       "<p>2180 rows × 3 columns</p>\n",
       "</div>"
      ],
      "text/plain": [
       "                          date             user  total\n",
       "0    2018-12-06 00:00:00+00:00    100.45.97.201     27\n",
       "1    2018-12-06 00:00:00+00:00     101.22.58.73     22\n",
       "2    2018-12-06 00:00:00+00:00    101.50.153.45     22\n",
       "3    2018-12-06 00:00:00+00:00  103.108.226.163     31\n",
       "4    2018-12-06 00:00:00+00:00    108.49.147.12     24\n",
       "...                        ...              ...    ...\n",
       "2175 2019-01-04 00:00:00+00:00    92.164.173.92     14\n",
       "2176 2019-01-04 00:00:00+00:00     94.48.16.104     15\n",
       "2177 2019-01-04 00:00:00+00:00     94.73.71.128     18\n",
       "2178 2019-01-04 00:00:00+00:00    96.14.240.112     14\n",
       "2179 2019-01-04 00:00:00+00:00    99.219.113.60     19\n",
       "\n",
       "[2180 rows x 3 columns]"
      ]
     },
     "execution_count": 41,
     "metadata": {},
     "output_type": "execute_result"
    }
   ],
   "source": [
    "stats"
   ]
  },
  {
   "cell_type": "code",
   "execution_count": 42,
   "metadata": {},
   "outputs": [
    {
     "data": {
      "text/plain": [
       "np.int64(31982)"
      ]
     },
     "execution_count": 42,
     "metadata": {},
     "output_type": "execute_result"
    }
   ],
   "source": [
    "stats['total'].sum()"
   ]
  },
  {
   "cell_type": "code",
   "execution_count": null,
   "metadata": {},
   "outputs": [],
   "source": []
  },
  {
   "cell_type": "code",
   "execution_count": null,
   "metadata": {},
   "outputs": [],
   "source": []
  }
 ],
 "metadata": {
  "kernelspec": {
   "display_name": ".venv",
   "language": "python",
   "name": "python3"
  },
  "language_info": {
   "codemirror_mode": {
    "name": "ipython",
    "version": 3
   },
   "file_extension": ".py",
   "mimetype": "text/x-python",
   "name": "python",
   "nbconvert_exporter": "python",
   "pygments_lexer": "ipython3",
   "version": "3.12.3"
  }
 },
 "nbformat": 4,
 "nbformat_minor": 2
}
